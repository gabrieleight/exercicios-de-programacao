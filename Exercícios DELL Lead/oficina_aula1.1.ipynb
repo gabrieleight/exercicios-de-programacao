{
 "cells": [
  {
   "cell_type": "markdown",
   "metadata": {},
   "source": [
    "# 01) Qual a média e desvio padrão do consumo de cerveja, licor, vinho e total de álcool?"
   ]
  },
  {
   "cell_type": "code",
   "execution_count": 81,
   "metadata": {},
   "outputs": [
    {
     "name": "stdout",
     "output_type": "stream",
     "text": [
      "A média e o desvio padrão do consumo de cerveja é 106.16062176165804 e 100.88073347858936, respectivamente\n",
      "A média e o desvio padrão do consumo de licor é 80.99481865284974 e 88.05529924115288, respectivamente\n",
      "A média e o desvio padrão do consumo de vinho é 49.45077720207254 e 79.4908598513948, respectivamente\n",
      "A média e o desvio padrão do consumo total de litros de álcool é 4.717098445595855 e 3.7635100851854935, respectivamente\n"
     ]
    }
   ],
   "source": [
    "import pandas as pd\n",
    "df = pd.read_csv('https://raw.githubusercontent.com/fivethirtyeight/data/master/alcohol-consumption/drinks.csv')\n",
    "\n",
    "consumoCerveja = df['beer_servings'].values\n",
    "consumoLicor = df['spirit_servings'].values\n",
    "consumoVinho = df['wine_servings'].values\n",
    "consumoAlcool = df['total_litres_of_pure_alcohol'].values\n",
    "\n",
    "print(f'A média e o desvio padrão do consumo de cerveja é {consumoCerveja.mean()} e {consumoCerveja.std()}, respectivamente')\n",
    "print(f'A média e o desvio padrão do consumo de licor é {consumoLicor.mean()} e {consumoLicor.std()}, respectivamente')\n",
    "print(f'A média e o desvio padrão do consumo de vinho é {consumoVinho.mean()} e {consumoVinho.std()}, respectivamente')\n",
    "print(f'A média e o desvio padrão do consumo total de litros de álcool é {consumoAlcool.mean()} e {consumoAlcool.std()}, respectivamente')"
   ]
  },
  {
   "cell_type": "markdown",
   "metadata": {},
   "source": [
    "# 02) Qual o consumo de licor na França?"
   ]
  },
  {
   "cell_type": "code",
   "execution_count": 82,
   "metadata": {},
   "outputs": [
    {
     "name": "stdout",
     "output_type": "stream",
     "text": [
      "O consumo de licor na França é de 151\n"
     ]
    }
   ],
   "source": [
    "import pandas as pd\n",
    "df = pd.read_csv('https://raw.githubusercontent.com/fivethirtyeight/data/master/alcohol-consumption/drinks.csv')\n",
    "\n",
    "consumoFrança = df[df['country'] == 'France']\n",
    "consumoLicorFrança = consumoFrança['spirit_servings']\n",
    "\n",
    "print(f'O consumo de licor na França é de {consumoLicorFrança.values[0]}')"
   ]
  },
  {
   "cell_type": "markdown",
   "metadata": {},
   "source": [
    "# 03) Quais os 5 países nos quais se consome mais vinho?"
   ]
  },
  {
   "cell_type": "code",
   "execution_count": 100,
   "metadata": {},
   "outputs": [
    {
     "name": "stdout",
     "output_type": "stream",
     "text": [
      "Os paises que se consome mais vinho são:\n",
      "France\n",
      "Portugal\n",
      "Andorra\n",
      "Switzerland\n",
      "Denmark\n"
     ]
    }
   ],
   "source": [
    "import pandas as pd\n",
    "df = pd.read_csv('https://raw.githubusercontent.com/fivethirtyeight/data/master/alcohol-consumption/drinks.csv')\n",
    "\n",
    "dfConsomeVinho = df.sort_values(by='wine_servings', ascending = False).head()\n",
    "paisesConsomeVinho = dfConsomeVinho['country']\n",
    "\n",
    "print(f'Os paises que se consome mais vinho são:') \n",
    "for i in paisesConsomeVinho.values: \n",
    "    print(i)"
   ]
  },
  {
   "cell_type": "markdown",
   "metadata": {},
   "source": [
    "# 04) Quais os países nos quais o consumo de cerveja está acima da média?"
   ]
  },
  {
   "cell_type": "code",
   "execution_count": 158,
   "metadata": {},
   "outputs": [
    {
     "name": "stdout",
     "output_type": "stream",
     "text": [
      "Os paises com o consumo de cerveja acima da média são:\n",
      "Andorra\n",
      "Angola\n",
      "Argentina\n",
      "Australia\n",
      "Austria\n",
      "Bahamas\n",
      "Barbados\n",
      "Belarus\n",
      "Belgium\n",
      "Belize\n",
      "Bolivia\n",
      "Botswana\n",
      "Brazil\n",
      "Bulgaria\n",
      "Cabo Verde\n",
      "Cameroon\n",
      "Canada\n",
      "Chile\n",
      "Colombia\n",
      "Costa Rica\n",
      "Croatia\n",
      "Cyprus\n",
      "Czech Republic\n",
      "Denmark\n",
      "Dominican Republic\n",
      "Ecuador\n",
      "Estonia\n",
      "Finland\n",
      "France\n",
      "Gabon\n",
      "Germany\n",
      "Greece\n",
      "Grenada\n",
      "Hungary\n",
      "Iceland\n",
      "Ireland\n",
      "Kazakhstan\n",
      "Latvia\n",
      "Lithuania\n",
      "Luxembourg\n",
      "Malta\n",
      "Mexico\n",
      "Namibia\n",
      "Netherlands\n",
      "New Zealand\n",
      "Niue\n",
      "Norway\n",
      "Palau\n",
      "Panama\n",
      "Paraguay\n",
      "Peru\n",
      "Poland\n",
      "Portugal\n",
      "South Korea\n",
      "Moldova\n",
      "Romania\n",
      "Russian Federation\n",
      "St. Kitts & Nevis\n",
      "St. Lucia\n",
      "St. Vincent & the Grenadines\n",
      "Serbia\n",
      "Seychelles\n",
      "Slovakia\n",
      "Slovenia\n",
      "South Africa\n",
      "Spain\n",
      "Suriname\n",
      "Sweden\n",
      "Switzerland\n",
      "Trinidad & Tobago\n",
      "Ukraine\n",
      "United Kingdom\n",
      "USA\n",
      "Uruguay\n",
      "Venezuela\n",
      "Vietnam\n"
     ]
    }
   ],
   "source": [
    "import pandas as pd\n",
    "df = pd.read_csv('https://raw.githubusercontent.com/fivethirtyeight/data/master/alcohol-consumption/drinks.csv')\n",
    "\n",
    "mediaConsumoCerveja = df['beer_servings'].mean()\n",
    "#print(mediaConsumoCerveja)\n",
    "paisesConsumoCerveja = df[df['beer_servings'] >= mediaConsumoCerveja]\n",
    "#print(paisesConsumoCerveja)\n",
    "print(f'Os paises com o consumo de cerveja acima da média são:')\n",
    "for i in paisesConsumoCerveja['country'].values:\n",
    "    print(i)"
   ]
  },
  {
   "cell_type": "markdown",
   "metadata": {},
   "source": [
    "# 05) Quais países nos quais o consumo total de álcool está acima do Brasil, em ordem do menor para o maior?"
   ]
  },
  {
   "cell_type": "code",
   "execution_count": 175,
   "metadata": {},
   "outputs": [
    {
     "name": "stdout",
     "output_type": "stream",
     "text": [
      "Os países nos quais o consumo total de álcool está acima do Brasil são, em ordem de menor para maior:\n",
      "Paraguay\n",
      "Chile\n",
      "Venezuela\n",
      "St. Kitts & Nevis\n",
      "South Africa\n",
      "Canada\n",
      "Cyprus\n",
      "Argentina\n",
      "Uganda\n",
      "Greece\n",
      "USA\n",
      "Gabon\n",
      "Ukraine\n",
      "Nigeria\n",
      "New Zealand\n",
      "Netherlands\n",
      "Estonia\n",
      "Serbia\n",
      "Austria\n",
      "South Korea\n",
      "Finland\n",
      "Spain\n",
      "St. Lucia\n",
      "Switzerland\n",
      "Croatia\n",
      "Bulgaria\n",
      "Australia\n",
      "Romania\n",
      "United Kingdom\n",
      "Denmark\n",
      "Belgium\n",
      "Latvia\n",
      "Slovenia\n",
      "Poland\n",
      "Portugal\n",
      "Hungary\n",
      "Germany\n",
      "Luxembourg\n",
      "Slovakia\n",
      "Ireland\n",
      "Russian Federation\n",
      "Czech Republic\n",
      "France\n",
      "Grenada\n",
      "Andorra\n",
      "Lithuania\n",
      "Belarus\n"
     ]
    }
   ],
   "source": [
    "import pandas as pd\n",
    "df = pd.read_csv('https://raw.githubusercontent.com/fivethirtyeight/data/master/alcohol-consumption/drinks.csv')\n",
    "\n",
    "consumoPais = df[df['country'] == 'Brazil']\n",
    "#print(consumoPais)\n",
    "paisesConsumoAlcool = df[df['total_litres_of_pure_alcohol'] > consumoPais['total_litres_of_pure_alcohol'].values[0]]\n",
    "#print(paisesConsumoAlcool)\n",
    "paisesConsumoAlcoolOrdem = paisesConsumoAlcool.sort_values('total_litres_of_pure_alcohol', ascending=True)\n",
    "#print(paisesConsumoAlcoolOrdem)\n",
    "\n",
    "print(f'Os países nos quais o consumo total de álcool está acima do Brasil são, em ordem de menor para maior:')\n",
    "for i in paisesConsumoAlcoolOrdem[\"country\"]:\n",
    "    print(i)\n"
   ]
  }
 ],
 "metadata": {
  "interpreter": {
   "hash": "b3ba2566441a7c06988d0923437866b63cedc61552a5af99d1f4fb67d367b25f"
  },
  "kernelspec": {
   "display_name": "Python 3.8.8 64-bit ('base': conda)",
   "language": "python",
   "name": "python3"
  },
  "language_info": {
   "codemirror_mode": {
    "name": "ipython",
    "version": 3
   },
   "file_extension": ".py",
   "mimetype": "text/x-python",
   "name": "python",
   "nbconvert_exporter": "python",
   "pygments_lexer": "ipython3",
   "version": "3.8.8"
  },
  "orig_nbformat": 4
 },
 "nbformat": 4,
 "nbformat_minor": 2
}
